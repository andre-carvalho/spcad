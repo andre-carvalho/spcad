{
  "nbformat": 4,
  "nbformat_minor": 0,
  "metadata": {
    "colab": {
      "provenance": []
    },
    "kernelspec": {
      "name": "python3",
      "display_name": "Python 3"
    },
    "language_info": {
      "name": "python"
    }
  },
  "cells": [
    {
      "cell_type": "code",
      "execution_count": 1,
      "metadata": {
        "id": "SewHp3K6wrri",
        "colab": {
          "base_uri": "https://localhost:8080/"
        },
        "outputId": "1d936ddf-adfd-4f45-9515-a5f584c339ec"
      },
      "outputs": [
        {
          "output_type": "stream",
          "name": "stdout",
          "text": [
            "Mounted at /content/drive\n",
            "/content/drive\n"
          ]
        }
      ],
      "source": [
        "from google.colab import drive\n",
        "drive.mount('/content/drive')"
      ]
    },
    {
      "cell_type": "markdown",
      "source": [
        "Install code from SPCAD repository"
      ],
      "metadata": {
        "id": "Msxn1J369rRl"
      }
    },
    {
      "cell_type": "code",
      "source": [
        "!git clone https://github.com/andre-carvalho/spcad.git"
      ],
      "metadata": {
        "colab": {
          "base_uri": "https://localhost:8080/"
        },
        "id": "JMlHb1N_9zRu",
        "outputId": "362aab7b-e505-49d9-d571-2a14f8bf9489"
      },
      "execution_count": 7,
      "outputs": [
        {
          "output_type": "stream",
          "name": "stdout",
          "text": [
            "Cloning into 'spcad'...\n",
            "remote: Enumerating objects: 139, done.\u001b[K\n",
            "remote: Counting objects: 100% (139/139), done.\u001b[K\n",
            "remote: Compressing objects: 100% (91/91), done.\u001b[K\n",
            "remote: Total 139 (delta 64), reused 113 (delta 40), pack-reused 0\u001b[K\n",
            "Receiving objects: 100% (139/139), 11.07 MiB | 14.05 MiB/s, done.\n",
            "Resolving deltas: 100% (64/64), done.\n"
          ]
        }
      ]
    },
    {
      "cell_type": "markdown",
      "source": [
        "Install all dependencies"
      ],
      "metadata": {
        "id": "7llLOD-vCo8N"
      }
    },
    {
      "cell_type": "code",
      "source": [
        "%cd ./spcad/\n",
        "!pip install -r requirements.txt"
      ],
      "metadata": {
        "colab": {
          "base_uri": "https://localhost:8080/"
        },
        "id": "NjoTS9u9CtzC",
        "outputId": "de663c91-60e7-49f9-ee6d-54984387d301"
      },
      "execution_count": 9,
      "outputs": [
        {
          "output_type": "stream",
          "name": "stdout",
          "text": [
            "/content/spcad\n",
            "Requirement already satisfied: geopandas in /usr/local/lib/python3.10/dist-packages (from -r requirements.txt (line 1)) (0.13.2)\n",
            "Collecting alive-progress (from -r requirements.txt (line 2))\n",
            "  Downloading alive_progress-3.1.5-py3-none-any.whl (75 kB)\n",
            "\u001b[2K     \u001b[90m━━━━━━━━━━━━━━━━━━━━━━━━━━━━━━━━━━━━━━━━\u001b[0m \u001b[32m76.0/76.0 kB\u001b[0m \u001b[31m2.0 MB/s\u001b[0m eta \u001b[36m0:00:00\u001b[0m\n",
            "\u001b[?25hRequirement already satisfied: fiona>=1.8.19 in /usr/local/lib/python3.10/dist-packages (from geopandas->-r requirements.txt (line 1)) (1.9.6)\n",
            "Requirement already satisfied: packaging in /usr/local/lib/python3.10/dist-packages (from geopandas->-r requirements.txt (line 1)) (24.0)\n",
            "Requirement already satisfied: pandas>=1.1.0 in /usr/local/lib/python3.10/dist-packages (from geopandas->-r requirements.txt (line 1)) (1.5.3)\n",
            "Requirement already satisfied: pyproj>=3.0.1 in /usr/local/lib/python3.10/dist-packages (from geopandas->-r requirements.txt (line 1)) (3.6.1)\n",
            "Requirement already satisfied: shapely>=1.7.1 in /usr/local/lib/python3.10/dist-packages (from geopandas->-r requirements.txt (line 1)) (2.0.3)\n",
            "Collecting about-time==4.2.1 (from alive-progress->-r requirements.txt (line 2))\n",
            "  Downloading about_time-4.2.1-py3-none-any.whl (13 kB)\n",
            "Collecting grapheme==0.6.0 (from alive-progress->-r requirements.txt (line 2))\n",
            "  Downloading grapheme-0.6.0.tar.gz (207 kB)\n",
            "\u001b[2K     \u001b[90m━━━━━━━━━━━━━━━━━━━━━━━━━━━━━━━━━━━━━━━━\u001b[0m \u001b[32m207.3/207.3 kB\u001b[0m \u001b[31m8.5 MB/s\u001b[0m eta \u001b[36m0:00:00\u001b[0m\n",
            "\u001b[?25h  Preparing metadata (setup.py) ... \u001b[?25l\u001b[?25hdone\n",
            "Requirement already satisfied: attrs>=19.2.0 in /usr/local/lib/python3.10/dist-packages (from fiona>=1.8.19->geopandas->-r requirements.txt (line 1)) (23.2.0)\n",
            "Requirement already satisfied: certifi in /usr/local/lib/python3.10/dist-packages (from fiona>=1.8.19->geopandas->-r requirements.txt (line 1)) (2024.2.2)\n",
            "Requirement already satisfied: click~=8.0 in /usr/local/lib/python3.10/dist-packages (from fiona>=1.8.19->geopandas->-r requirements.txt (line 1)) (8.1.7)\n",
            "Requirement already satisfied: click-plugins>=1.0 in /usr/local/lib/python3.10/dist-packages (from fiona>=1.8.19->geopandas->-r requirements.txt (line 1)) (1.1.1)\n",
            "Requirement already satisfied: cligj>=0.5 in /usr/local/lib/python3.10/dist-packages (from fiona>=1.8.19->geopandas->-r requirements.txt (line 1)) (0.7.2)\n",
            "Requirement already satisfied: six in /usr/local/lib/python3.10/dist-packages (from fiona>=1.8.19->geopandas->-r requirements.txt (line 1)) (1.16.0)\n",
            "Requirement already satisfied: python-dateutil>=2.8.1 in /usr/local/lib/python3.10/dist-packages (from pandas>=1.1.0->geopandas->-r requirements.txt (line 1)) (2.8.2)\n",
            "Requirement already satisfied: pytz>=2020.1 in /usr/local/lib/python3.10/dist-packages (from pandas>=1.1.0->geopandas->-r requirements.txt (line 1)) (2023.4)\n",
            "Requirement already satisfied: numpy>=1.21.0 in /usr/local/lib/python3.10/dist-packages (from pandas>=1.1.0->geopandas->-r requirements.txt (line 1)) (1.25.2)\n",
            "Building wheels for collected packages: grapheme\n",
            "  Building wheel for grapheme (setup.py) ... \u001b[?25l\u001b[?25hdone\n",
            "  Created wheel for grapheme: filename=grapheme-0.6.0-py3-none-any.whl size=210078 sha256=2a9ab0a5687634af9b6889300c9dce0c74f01928e68fa28aeac748c2f18fce85\n",
            "  Stored in directory: /root/.cache/pip/wheels/01/e1/49/37e6bde9886439057450c494a79b0bef8bbe897a54aebfc757\n",
            "Successfully built grapheme\n",
            "Installing collected packages: grapheme, about-time, alive-progress\n",
            "Successfully installed about-time-4.2.1 alive-progress-3.1.5 grapheme-0.6.0\n"
          ]
        }
      ]
    },
    {
      "cell_type": "markdown",
      "source": [
        "Import the main script"
      ],
      "metadata": {
        "id": "x-hzQYiY_UE-"
      }
    },
    {
      "cell_type": "code",
      "source": [
        "from seed_process import SeedProcess"
      ],
      "metadata": {
        "id": "_NhdP6PN_Zct"
      },
      "execution_count": 11,
      "outputs": []
    },
    {
      "cell_type": "markdown",
      "source": [
        "Instanciate and call the main method. Optionally you may change the lower_limit or another parameters befor call the execute method.\n",
        "\n",
        "There are optional input parameters:\n",
        "\n",
        "*   buffer_step, the number of units used to increase the buffer around the seeds to make an ACDP. Based on input data projection;\n",
        "*   percent_range, the value to apply over the limit_to_stop to accept agregation of sectors;\n",
        "*   limit_to_stop, the reference value to finalize the sectoral aggregation of a seed influence area;\n",
        "*   lower_limit, the default limit used to join minor ACDPs to nearest neighbor;\n",
        "*   district_code, the code of one district to test the output without build all data;"
      ],
      "metadata": {
        "id": "-NSjcRGG_b8k"
      }
    },
    {
      "cell_type": "code",
      "source": [
        "sp = SeedProcess(lower_limit=1000, district_code='355030888')\n",
        "sp.execute()"
      ],
      "metadata": {
        "colab": {
          "base_uri": "https://localhost:8080/"
        },
        "id": "W7j5TZ5FAqyU",
        "outputId": "1f5b7103-35c7-42ee-91b8-d8f997a3bf0c"
      },
      "execution_count": 12,
      "outputs": [
        {
          "output_type": "stream",
          "name": "stdout",
          "text": [
            "Starting at: 24/03/2024T13:47:21\n",
            "|████████████████████████████████████████| 1/1 [100%] in 37.6s (0.03/s) \n"
          ]
        },
        {
          "output_type": "stream",
          "name": "stderr",
          "text": [
            "WARNING:fiona._env:Value '355030888000038,355030888000141,355030888000112,355030888000067,355030888000024,355030888000025,355030888000036,355030888000009,355030888000087,355030888000135,355030888000088,355030888000126,355030888000089,355030888000069,355030888000127,355030888000035,355030888000058,355030888000003,355030888000102,355030888000046,355030888000007,355030888000005,355030888000006,355030888000064,355030888000143,355030888000120,355030888000121,355030888000133,355030888000134,355030888000047,355030888000072,355030888000021,355030888000034,355030888000148,355030888000107,355030888000114' of field cd_sectors has been truncated to 254 characters.  This warning will not be emitted any more for that layer.\n"
          ]
        },
        {
          "output_type": "stream",
          "name": "stdout",
          "text": [
            "Finished in: 24/03/2024T13:48:08\n"
          ]
        }
      ]
    }
  ]
}