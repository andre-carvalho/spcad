{
  "nbformat": 4,
  "nbformat_minor": 0,
  "metadata": {
    "colab": {
      "provenance": []
    },
    "kernelspec": {
      "name": "python3",
      "display_name": "Python 3"
    },
    "language_info": {
      "name": "python"
    }
  },
  "cells": [
    {
      "cell_type": "code",
      "execution_count": null,
      "metadata": {
        "id": "SewHp3K6wrri"
      },
      "outputs": [],
      "source": [
        "from google.colab import drive\n",
        "drive.mount('/content/drive')"
      ]
    },
    {
      "cell_type": "markdown",
      "source": [
        "Install code from SPCAD repository"
      ],
      "metadata": {
        "id": "Msxn1J369rRl"
      }
    },
    {
      "cell_type": "code",
      "source": [
        "!wget https://github.com/andre-carvalho/spcad/archive/refs/tags/v0.3.0.zip\n",
        "!unzip -j -d spcad v0.3.0.zip"
      ],
      "metadata": {
        "id": "JMlHb1N_9zRu"
      },
      "execution_count": null,
      "outputs": []
    },
    {
      "cell_type": "markdown",
      "source": [
        "Install all dependencies"
      ],
      "metadata": {
        "id": "7llLOD-vCo8N"
      }
    },
    {
      "cell_type": "code",
      "source": [
        "%cd ./spcad/\n",
        "!pip install -r requirements.txt"
      ],
      "metadata": {
        "id": "NjoTS9u9CtzC"
      },
      "execution_count": null,
      "outputs": []
    },
    {
      "cell_type": "markdown",
      "source": [
        "Import the main script"
      ],
      "metadata": {
        "id": "x-hzQYiY_UE-"
      }
    },
    {
      "cell_type": "code",
      "source": [
        "from seed_process import SeedProcess"
      ],
      "metadata": {
        "id": "_NhdP6PN_Zct"
      },
      "execution_count": null,
      "outputs": []
    },
    {
      "cell_type": "markdown",
      "source": [
        "Instanciate and call the main method. Optionally you may change the lower_limit or another parameters befor call the execute method.\n",
        "\n",
        "There are optional input parameters:\n",
        "\n",
        "*   buffer_step, the number of units used to increase the buffer around the seeds to make an ACDP. Based on input data projection;\n",
        "*   percent_range, the value to apply over the limit_to_stop to accept agregation of sectors;\n",
        "*   limit_to_stop, the reference value to finalize the sectoral aggregation of a seed influence area;\n",
        "*   lower_limit, the default limit used to join minor ACDPs to nearest neighbor;\n",
        "*   district_code, the code of one district to test the output without build all data;"
      ],
      "metadata": {
        "id": "-NSjcRGG_b8k"
      }
    },
    {
      "cell_type": "code",
      "source": [
        "sp = SeedProcess(lower_limit=1000, district_code='355030888')\n",
        "sp.execute()"
      ],
      "metadata": {
        "id": "W7j5TZ5FAqyU"
      },
      "execution_count": null,
      "outputs": []
    }
  ]
}